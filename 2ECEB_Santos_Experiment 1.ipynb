{
 "cells": [
  {
   "cell_type": "code",
   "execution_count": 31,
   "id": "8ee806ca-e2af-4e64-aa48-fa23bc0ea508",
   "metadata": {},
   "outputs": [
    {
     "name": "stdin",
     "output_type": "stream",
     "text": [
      "Enter string:  apple\n"
     ]
    },
    {
     "name": "stdout",
     "output_type": "stream",
     "text": [
      "aelpp\n"
     ]
    }
   ],
   "source": [
    "#Funtion that takes the possible word inside as a string\n",
    "def alphabet_soup(text):\n",
    "    # Sorts the letters of the word in the string in alphabetical order\n",
    "    return ''.join(sorted(text))\n",
    "\n",
    "#Inputting Word \n",
    "text = input(\"Enter string: \")\n",
    "#Output Sentence\n",
    "print(alphabet_soup(text))"
   ]
  },
  {
   "cell_type": "code",
   "execution_count": null,
   "id": "dc6806e7-a4d5-411d-8762-e08c83facd66",
   "metadata": {},
   "outputs": [],
   "source": []
  },
  {
   "cell_type": "code",
   "execution_count": 27,
   "id": "983dded7-feee-4e38-bded-f61bdef05fa8",
   "metadata": {},
   "outputs": [
    {
     "name": "stdin",
     "output_type": "stream",
     "text": [
      "Enter an sentence: go smile\n"
     ]
    },
    {
     "name": "stdout",
     "output_type": "stream",
     "text": [
      "go :)\n"
     ]
    }
   ],
   "source": [
    "def emotify(words):\n",
    "    #The Dictionary, Assigning specific words to their specific special characters \n",
    "\n",
    "    #Split the inputed sentence into words then replacing the specific words to their assigned special characters in the dictionary \n",
    "    emoticons = {\"smile\":\":)\", \"grin\": \":D\", \"sad\": \":((\", \"mad\": \">:(\"}\n",
    "    #Returning the edited sentence\n",
    "    return \" \".join(emoticons.get(word, word) for word in words.split())\n",
    "\n",
    "#Inputing the Sentence \n",
    "words = input(\"Enter an sentence:\") \n",
    "#Printing the Output with the changes\n",
    "print(emotify(words))\n",
    "    "
   ]
  },
  {
   "cell_type": "code",
   "execution_count": null,
   "id": "4b512f3e-2fb0-49bc-bef5-adca7f199907",
   "metadata": {},
   "outputs": [],
   "source": []
  },
  {
   "cell_type": "code",
   "execution_count": 53,
   "id": "2fcb571b-5e94-403d-948e-f113efcb89f1",
   "metadata": {},
   "outputs": [
    {
     "name": "stdout",
     "output_type": "stream",
     "text": [
      "first: 1   middle: [2, 3, 4, 5]  last: 6\n"
     ]
    }
   ],
   "source": [
    "#List of Integers \n",
    "list = [1, 2, 3, 4, 5, 6]\n",
    "\n",
    "#Getting the first, middle, and last elements of the list of Integers\n",
    "first = list[0]\n",
    "middle = list[1:-1]\n",
    "last = list[-1]\n",
    "\n",
    "#Output of elements\n",
    "print(\"first:\", first , \"  middle:\",middle, \" last:\",last)"
   ]
  },
  {
   "cell_type": "code",
   "execution_count": null,
   "id": "322bd4f2-c2c0-49cf-a7fe-9e9983c98ddf",
   "metadata": {},
   "outputs": [],
   "source": []
  }
 ],
 "metadata": {
  "kernelspec": {
   "display_name": "Python 3 (ipykernel)",
   "language": "python",
   "name": "python3"
  },
  "language_info": {
   "codemirror_mode": {
    "name": "ipython",
    "version": 3
   },
   "file_extension": ".py",
   "mimetype": "text/x-python",
   "name": "python",
   "nbconvert_exporter": "python",
   "pygments_lexer": "ipython3",
   "version": "3.12.4"
  }
 },
 "nbformat": 4,
 "nbformat_minor": 5
}
